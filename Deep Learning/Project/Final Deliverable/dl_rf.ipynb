{
 "cells": [
  {
   "cell_type": "code",
   "execution_count": 1,
   "id": "acd7215c",
   "metadata": {},
   "outputs": [],
   "source": [
    "import pandas as pd\n",
    "import numpy as np\n",
    "\n",
    "import glob\n",
    "from PIL import Image\n",
    "\n",
    "# from sklearn.model_selection import train_test_split"
   ]
  },
  {
   "cell_type": "code",
   "execution_count": 2,
   "id": "f25afb3a",
   "metadata": {},
   "outputs": [],
   "source": [
    "path_name = '/Users/alisongarrett/Documents/GitHub/metis/Deep Learning/Project/data/process/train/edible'\n",
    "tr_edible_fl = glob.glob(path_name + '/*.jpeg')\n",
    "\n",
    "path_name = '/Users/alisongarrett/Documents/GitHub/metis/Deep Learning/Project/data/process/train/poisonous'\n",
    "tr_poison_fl = glob.glob(path_name + '/*.jpeg')"
   ]
  },
  {
   "cell_type": "code",
   "execution_count": 3,
   "id": "81a6fe69",
   "metadata": {},
   "outputs": [],
   "source": [
    "X_train_edible = np.array([np.array(Image.open(fn)) for fn in tr_edible_fl])\n",
    "X_train_poison = np.array([np.array(Image.open(fn)) for fn in tr_poison_fl])"
   ]
  },
  {
   "cell_type": "code",
   "execution_count": 4,
   "id": "50bda221",
   "metadata": {},
   "outputs": [],
   "source": [
    "X_train = np.vstack((X_train_edible, X_train_poison))\n",
    "y_train = np.concatenate((np.zeros((3933,1)), np.ones((2881,1))), axis=0)"
   ]
  },
  {
   "cell_type": "code",
   "execution_count": 6,
   "id": "be86e8ac",
   "metadata": {},
   "outputs": [
    {
     "data": {
      "text/plain": [
       "(6814, 32, 32)"
      ]
     },
     "execution_count": 6,
     "metadata": {},
     "output_type": "execute_result"
    }
   ],
   "source": [
    "X_train.shape"
   ]
  },
  {
   "cell_type": "code",
   "execution_count": 7,
   "id": "b6aacf4f",
   "metadata": {},
   "outputs": [],
   "source": [
    "X_train = np.reshape(X_train, (6814, 1024))"
   ]
  },
  {
   "cell_type": "code",
   "execution_count": 8,
   "id": "e7dc2a04",
   "metadata": {},
   "outputs": [
    {
     "data": {
      "text/plain": [
       "(6814, 1024)"
      ]
     },
     "execution_count": 8,
     "metadata": {},
     "output_type": "execute_result"
    }
   ],
   "source": [
    "X_train.shape"
   ]
  },
  {
   "cell_type": "code",
   "execution_count": 9,
   "id": "239ea949",
   "metadata": {},
   "outputs": [
    {
     "data": {
      "text/plain": [
       "(6814, 1)"
      ]
     },
     "execution_count": 9,
     "metadata": {},
     "output_type": "execute_result"
    }
   ],
   "source": [
    "y_train.shape"
   ]
  },
  {
   "cell_type": "code",
   "execution_count": 10,
   "id": "4ca9842b",
   "metadata": {},
   "outputs": [],
   "source": [
    "y_train = y_train.ravel()"
   ]
  },
  {
   "cell_type": "code",
   "execution_count": 11,
   "id": "fcec5a03",
   "metadata": {},
   "outputs": [
    {
     "data": {
      "text/plain": [
       "(6814,)"
      ]
     },
     "execution_count": 11,
     "metadata": {},
     "output_type": "execute_result"
    }
   ],
   "source": [
    "y_train.shape"
   ]
  },
  {
   "cell_type": "code",
   "execution_count": 12,
   "id": "e8d1045a",
   "metadata": {},
   "outputs": [],
   "source": [
    "path_name = '/Users/alisongarrett/Documents/GitHub/metis/Deep Learning/Project/data/process/test/edible'\n",
    "te_edible_fl = glob.glob(path_name + '/*.jpeg')\n",
    "\n",
    "path_name = '/Users/alisongarrett/Documents/GitHub/metis/Deep Learning/Project/data/process/test/poisonous'\n",
    "te_poison_fl = glob.glob(path_name + '/*.jpeg')"
   ]
  },
  {
   "cell_type": "code",
   "execution_count": 13,
   "id": "fbc24f1f",
   "metadata": {},
   "outputs": [],
   "source": [
    "X_test_edible = np.array([np.array(Image.open(fn)) for fn in te_edible_fl])\n",
    "X_test_poison = np.array([np.array(Image.open(fn)) for fn in te_poison_fl])"
   ]
  },
  {
   "cell_type": "code",
   "execution_count": 14,
   "id": "8fb50993",
   "metadata": {},
   "outputs": [
    {
     "data": {
      "text/plain": [
       "(457, 32, 32)"
      ]
     },
     "execution_count": 14,
     "metadata": {},
     "output_type": "execute_result"
    }
   ],
   "source": [
    "X_test_edible.shape"
   ]
  },
  {
   "cell_type": "code",
   "execution_count": 15,
   "id": "ba51d840",
   "metadata": {},
   "outputs": [
    {
     "data": {
      "text/plain": [
       "(407, 32, 32)"
      ]
     },
     "execution_count": 15,
     "metadata": {},
     "output_type": "execute_result"
    }
   ],
   "source": [
    "X_test_poison.shape"
   ]
  },
  {
   "cell_type": "code",
   "execution_count": 16,
   "id": "3b8c6e14",
   "metadata": {},
   "outputs": [],
   "source": [
    "X_test = np.vstack((X_test_edible, X_test_poison))\n",
    "y_test = np.concatenate((np.zeros((457,1)), np.ones((407,1))), axis=0)"
   ]
  },
  {
   "cell_type": "code",
   "execution_count": 17,
   "id": "c8463e0a",
   "metadata": {},
   "outputs": [
    {
     "data": {
      "text/plain": [
       "(864, 32, 32)"
      ]
     },
     "execution_count": 17,
     "metadata": {},
     "output_type": "execute_result"
    }
   ],
   "source": [
    "X_test.shape"
   ]
  },
  {
   "cell_type": "code",
   "execution_count": 18,
   "id": "c3912307",
   "metadata": {},
   "outputs": [],
   "source": [
    "X_test = np.reshape(X_test, (864, 1024))"
   ]
  },
  {
   "cell_type": "code",
   "execution_count": 19,
   "id": "e3fa4bf8",
   "metadata": {},
   "outputs": [
    {
     "data": {
      "text/plain": [
       "(864, 1024)"
      ]
     },
     "execution_count": 19,
     "metadata": {},
     "output_type": "execute_result"
    }
   ],
   "source": [
    "X_test.shape"
   ]
  },
  {
   "cell_type": "code",
   "execution_count": 20,
   "id": "a55d1a60",
   "metadata": {},
   "outputs": [
    {
     "data": {
      "text/plain": [
       "(864, 1)"
      ]
     },
     "execution_count": 20,
     "metadata": {},
     "output_type": "execute_result"
    }
   ],
   "source": [
    "y_test.shape"
   ]
  },
  {
   "cell_type": "code",
   "execution_count": 21,
   "id": "4228ff4f",
   "metadata": {},
   "outputs": [],
   "source": [
    "y_test = y_test.ravel()"
   ]
  },
  {
   "cell_type": "code",
   "execution_count": 22,
   "id": "d2370c48",
   "metadata": {},
   "outputs": [
    {
     "data": {
      "text/plain": [
       "(864,)"
      ]
     },
     "execution_count": 22,
     "metadata": {},
     "output_type": "execute_result"
    }
   ],
   "source": [
    "y_test.shape"
   ]
  },
  {
   "cell_type": "code",
   "execution_count": null,
   "id": "eac51adf",
   "metadata": {},
   "outputs": [],
   "source": [
    "# X_trn, X_val, y_trn, y_val = (train_test_split(X_train, y_train, \n",
    "#                                                      test_size = .2, random_state = 42))"
   ]
  },
  {
   "cell_type": "code",
   "execution_count": 30,
   "id": "5176b6de",
   "metadata": {},
   "outputs": [],
   "source": [
    "from sklearn.ensemble import RandomForestClassifier\n",
    "\n",
    "import matplotlib.pyplot as plt\n",
    "import seaborn as sns\n",
    "\n",
    "from sklearn import metrics\n",
    "from sklearn.metrics import precision_score, recall_score, accuracy_score, roc_auc_score, confusion_matrix\n",
    "from sklearn.metrics import precision_recall_curve, f1_score, roc_curve"
   ]
  },
  {
   "cell_type": "code",
   "execution_count": 24,
   "id": "ef89b40e",
   "metadata": {},
   "outputs": [
    {
     "data": {
      "text/plain": [
       "RandomForestClassifier()"
      ]
     },
     "execution_count": 24,
     "metadata": {},
     "output_type": "execute_result"
    }
   ],
   "source": [
    "rf = RandomForestClassifier()\n",
    "rf.fit(X_train,y_train)"
   ]
  },
  {
   "cell_type": "code",
   "execution_count": 31,
   "id": "1703151c",
   "metadata": {},
   "outputs": [
    {
     "data": {
      "image/png": "[encoded data removed]",
      "text/plain": [
       "<Figure size 480x320 with 1 Axes>"
      ]
     },
     "metadata": {
      "needs_background": "light"
     },
     "output_type": "display_data"
    }
   ],
   "source": [
    "precision_curve, recall_curve, threshold_curve = precision_recall_curve(y_test, rf.predict_proba(X_test)[:,1] )\n",
    "\n",
    "plt.figure(dpi=80)\n",
    "plt.plot(threshold_curve, precision_curve[1:],label='precision')\n",
    "plt.plot(threshold_curve, recall_curve[1:], label='recall')\n",
    "plt.legend(loc='lower left')\n",
    "plt.xlabel('Threshold');\n",
    "plt.title('Precision and Recall Curves');"
   ]
  },
  {
   "cell_type": "code",
   "execution_count": 32,
   "id": "2381ac8a",
   "metadata": {},
   "outputs": [
    {
     "name": "stdout",
     "output_type": "stream",
     "text": [
      "Random Forest:\n",
      "Train: 1.000\n",
      "  mae: 0.42\n",
      "  mse: 0.42\n",
      "Test F1: 0.356, Test AUC: 0.558\n"
     ]
    }
   ],
   "source": [
    "print('Random Forest:') \n",
    "print('Train: %.3f' % (rf.score(X_train, y_train)))\n",
    "print(f\"  mae: {metrics.mean_absolute_error(y_test, rf.predict(X_test)):,.2f}\")\n",
    "print(f\"  mse: {metrics.mean_squared_error(y_test, rf.predict(X_test)):,.2f}\")\n",
    "print('Test F1: %.3f, Test AUC: %.3f' % \\\n",
    "      (f1_score(y_test, rf.predict(X_test)>0.4), roc_auc_score(y_test, rf.predict(X_test)>0.4))) "
   ]
  },
  {
   "cell_type": "code",
   "execution_count": 41,
   "id": "4ee88545",
   "metadata": {},
   "outputs": [
    {
     "data": {
      "image/png": "[encoded data removed]",
      "text/plain": [
       "<Figure size 900x600 with 1 Axes>"
      ]
     },
     "metadata": {
      "needs_background": "light"
     },
     "output_type": "display_data"
    }
   ],
   "source": [
    "confusion = confusion_matrix(y_test, (rf.predict(X_test))>0.45)\n",
    "plt.figure(dpi=150)\n",
    "sns.heatmap(confusion, cmap=plt.cm.Blues, annot=True, square=True, cbar=False, fmt='d')\n",
    "\n",
    "plt.xlabel('Predicted')\n",
    "plt.ylabel('Actual')\n",
    "plt.title('Confusion Matrix');"
   ]
  },
  {
   "cell_type": "code",
   "execution_count": 40,
   "id": "e861589c",
   "metadata": {},
   "outputs": [
    {
     "data": {
      "image/png": "[encoded data removed]",
      "text/plain": [
       "<Figure size 432x288 with 1 Axes>"
      ]
     },
     "metadata": {
      "needs_background": "light"
     },
     "output_type": "display_data"
    }
   ],
   "source": [
    "fpr, tpr, thresholds = roc_curve(y_test, rf.predict(X_test))\n",
    "\n",
    "plt.plot(fpr, tpr,lw=2)\n",
    "plt.plot([0,1],[0,1],c='orange',ls='--')\n",
    "plt.xlim([-0.05,1.05])\n",
    "plt.ylim([-0.05,1.05])\n",
    "\n",
    "\n",
    "plt.xlabel('False positive rate')\n",
    "plt.ylabel('True positive rate')\n",
    "plt.title('ROC Curve');"
   ]
  }
 ],
 "metadata": {
  "kernelspec": {
   "display_name": "Python [conda env:metis] *",
   "language": "python",
   "name": "conda-env-metis-py"
  },
  "language_info": {
   "codemirror_mode": {
    "name": "ipython",
    "version": 3
   },
   "file_extension": ".py",
   "mimetype": "text/x-python",
   "name": "python",
   "nbconvert_exporter": "python",
   "pygments_lexer": "ipython3",
   "version": "3.8.10"
  }
 },
 "nbformat": 4,
 "nbformat_minor": 5
}
