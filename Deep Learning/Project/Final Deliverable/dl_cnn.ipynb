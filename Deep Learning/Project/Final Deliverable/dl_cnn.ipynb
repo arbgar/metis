{
 "cells": [
  {
   "cell_type": "code",
   "execution_count": 1,
   "id": "acd7215c",
   "metadata": {},
   "outputs": [],
   "source": [
    "import pandas as pd\n",
    "import numpy as np\n",
    "\n",
    "import keras\n",
    "from keras.preprocessing.image import ImageDataGenerator\n",
    "from keras.models import Sequential\n",
    "from keras.layers import Conv2D, MaxPooling2D\n",
    "from keras.layers import Activation, Dropout, Flatten, Dense\n",
    "from keras.callbacks import EarlyStopping"
   ]
  },
  {
   "cell_type": "code",
   "execution_count": 2,
   "id": "396dc77b",
   "metadata": {},
   "outputs": [
    {
     "name": "stdout",
     "output_type": "stream",
     "text": [
      "Found 5452 images belonging to 2 classes.\n",
      "Found 1362 images belonging to 2 classes.\n"
     ]
    }
   ],
   "source": [
    "get_image_data = ImageDataGenerator(rescale=1./255, validation_split=0.20)\n",
    "\n",
    "path_name = '/Users/alisongarrett/Documents/GitHub/metis/Deep Learning/Project/data/train'\n",
    "\n",
    "image_data_train = get_image_data.flow_from_directory(path_name, \n",
    "                                                      subset='training', \n",
    "                                                      target_size=(256,256), \n",
    "                                                      batch_size=32,\n",
    "                                                      seed=42,\n",
    "                                                      class_mode='binary')\n",
    "\n",
    "image_data_validate = get_image_data.flow_from_directory(path_name, \n",
    "                                                         subset='validation', \n",
    "                                                         target_size=(256,256), \n",
    "                                                         batch_size=32,\n",
    "                                                         seed=42,\n",
    "                                                         class_mode='binary')\n",
    "\n"
   ]
  },
  {
   "cell_type": "code",
   "execution_count": 3,
   "id": "7e0a13f9",
   "metadata": {
    "scrolled": true
   },
   "outputs": [
    {
     "name": "stdout",
     "output_type": "stream",
     "text": [
      "Found 884 images belonging to 2 classes.\n"
     ]
    }
   ],
   "source": [
    "get_image_data = ImageDataGenerator(rescale=1./255)\n",
    "path_name = '/Users/alisongarrett/Documents/GitHub/metis/Deep Learning/Project/data/test'\n",
    "\n",
    "image_data_test = get_image_data.flow_from_directory(path_name, \n",
    "                                                     target_size=(256,256),\n",
    "                                                     seed=42,\n",
    "                                                     class_mode='binary',\n",
    "                                                     batch_size=32)\n",
    "\n"
   ]
  },
  {
   "cell_type": "code",
   "execution_count": 4,
   "id": "5d5e7caa",
   "metadata": {},
   "outputs": [
    {
     "name": "stderr",
     "output_type": "stream",
     "text": [
      "2021-12-01 09:52:55.877166: I tensorflow/core/platform/cpu_feature_guard.cc:142] This TensorFlow binary is optimized with oneAPI Deep Neural Network Library (oneDNN) to use the following CPU instructions in performance-critical operations:  AVX2 FMA\n",
      "To enable them in other operations, rebuild TensorFlow with the appropriate compiler flags.\n"
     ]
    }
   ],
   "source": [
    "model = Sequential()\n",
    "model.add(Conv2D(32, (3, 3), input_shape=(256,256,3)))\n",
    "model.add(Activation('relu'))\n",
    "model.add(MaxPooling2D(pool_size=(2, 2)))\n",
    "\n",
    "model.add(Conv2D(32, (3, 3)))\n",
    "model.add(Activation('relu'))\n",
    "model.add(MaxPooling2D(pool_size=(2, 2)))\n",
    "\n",
    "model.add(Conv2D(64, (3, 3)))\n",
    "model.add(Activation('relu'))\n",
    "model.add(MaxPooling2D(pool_size=(2, 2)))\n",
    "\n",
    "model.add(Flatten())\n",
    "model.add(Dense(64))\n",
    "model.add(Activation('relu'))\n",
    "model.add(Dropout(0.5))\n",
    "model.add(Dense(1))\n",
    "model.add(Activation('sigmoid'))\n"
   ]
  },
  {
   "cell_type": "code",
   "execution_count": 5,
   "id": "a2f568d5",
   "metadata": {},
   "outputs": [],
   "source": [
    "model.compile(loss='binary_crossentropy',\n",
    "              optimizer='rmsprop', #Adam\n",
    "              metrics=['accuracy'])"
   ]
  },
  {
   "cell_type": "code",
   "execution_count": 6,
   "id": "52ee94f8",
   "metadata": {},
   "outputs": [],
   "source": [
    "callback = EarlyStopping(monitor='val_accuracy', patience=3, restore_best_weights=True)"
   ]
  },
  {
   "cell_type": "code",
   "execution_count": 7,
   "id": "2bbcb439",
   "metadata": {
    "scrolled": true
   },
   "outputs": [
    {
     "name": "stderr",
     "output_type": "stream",
     "text": [
      "2021-12-01 09:53:02.125867: I tensorflow/compiler/mlir/mlir_graph_optimization_pass.cc:185] None of the MLIR Optimization Passes are enabled (registered 2)\n"
     ]
    },
    {
     "name": "stdout",
     "output_type": "stream",
     "text": [
      "Epoch 1/10\n",
      "171/171 [==============================] - 149s 867ms/step - loss: 0.7640 - accuracy: 0.5690 - val_loss: 0.7953 - val_accuracy: 0.5683\n",
      "Epoch 2/10\n",
      "171/171 [==============================] - 146s 854ms/step - loss: 0.6770 - accuracy: 0.5820 - val_loss: 0.6913 - val_accuracy: 0.5778\n",
      "Epoch 3/10\n",
      "171/171 [==============================] - 153s 894ms/step - loss: 0.6724 - accuracy: 0.5794 - val_loss: 0.7367 - val_accuracy: 0.5705\n",
      "Epoch 4/10\n",
      "171/171 [==============================] - 153s 892ms/step - loss: 0.6656 - accuracy: 0.5910 - val_loss: 0.8030 - val_accuracy: 0.5257\n",
      "Epoch 5/10\n",
      "171/171 [==============================] - 156s 909ms/step - loss: 0.6505 - accuracy: 0.6137 - val_loss: 0.7454 - val_accuracy: 0.5778\n"
     ]
    },
    {
     "data": {
      "text/plain": [
       "<keras.callbacks.History at 0x7f8bb30622b0>"
      ]
     },
     "execution_count": 7,
     "metadata": {},
     "output_type": "execute_result"
    }
   ],
   "source": [
    "model.fit(\n",
    "    image_data_train,\n",
    "#     steps_per_epoch=100,\n",
    "    epochs=10,\n",
    "    validation_data=image_data_validate,\n",
    "#     validation_steps=20, \n",
    "    callbacks=[callback])"
   ]
  },
  {
   "cell_type": "code",
   "execution_count": 8,
   "id": "8f23605e",
   "metadata": {},
   "outputs": [
    {
     "name": "stderr",
     "output_type": "stream",
     "text": [
      "2021-12-01 10:08:52.292322: W tensorflow/python/util/util.cc:348] Sets are not currently considered sequences, but this may change in the future, so consider avoiding using them.\n"
     ]
    },
    {
     "name": "stdout",
     "output_type": "stream",
     "text": [
      "INFO:tensorflow:Assets written to: model/assets\n"
     ]
    }
   ],
   "source": [
    "model.save('model')"
   ]
  },
  {
   "cell_type": "code",
   "execution_count": 11,
   "id": "e1eda1e8",
   "metadata": {},
   "outputs": [
    {
     "name": "stdout",
     "output_type": "stream",
     "text": [
      "28/28 [==============================] - 9s 323ms/step\n"
     ]
    }
   ],
   "source": [
    "prediction = model.predict(image_data_test, verbose=1)"
   ]
  },
  {
   "cell_type": "code",
   "execution_count": 12,
   "id": "d531d0f6",
   "metadata": {},
   "outputs": [
    {
     "data": {
      "text/plain": [
       "(884, 1)"
      ]
     },
     "execution_count": 12,
     "metadata": {},
     "output_type": "execute_result"
    }
   ],
   "source": [
    "prediction.shape"
   ]
  },
  {
   "cell_type": "code",
   "execution_count": 14,
   "id": "f7cd5b11",
   "metadata": {},
   "outputs": [
    {
     "data": {
      "text/plain": [
       "{'edible': 0, 'poisonous': 1}"
      ]
     },
     "execution_count": 14,
     "metadata": {},
     "output_type": "execute_result"
    }
   ],
   "source": [
    "image_data_test.class_indices"
   ]
  },
  {
   "cell_type": "code",
   "execution_count": 18,
   "id": "2ee6fc03",
   "metadata": {},
   "outputs": [],
   "source": [
    "actual = np.concatenate((np.zeros((472,1)), np.ones((412,1))), axis=0)"
   ]
  },
  {
   "cell_type": "code",
   "execution_count": 19,
   "id": "b2606a58",
   "metadata": {},
   "outputs": [
    {
     "data": {
      "text/plain": [
       "(884, 1)"
      ]
     },
     "execution_count": 19,
     "metadata": {},
     "output_type": "execute_result"
    }
   ],
   "source": [
    "actual.shape"
   ]
  },
  {
   "cell_type": "code",
   "execution_count": 21,
   "id": "55439680",
   "metadata": {},
   "outputs": [],
   "source": [
    "# visualization imports\n",
    "import matplotlib.pyplot as plt\n",
    "import seaborn as sns\n",
    "\n",
    "# modeling imports\n",
    "from sklearn.metrics import precision_score, recall_score, accuracy_score, roc_auc_score, confusion_matrix\n",
    "from sklearn.metrics import precision_recall_curve, f1_score, roc_curve"
   ]
  },
  {
   "cell_type": "code",
   "execution_count": 33,
   "id": "1d4e20f1",
   "metadata": {},
   "outputs": [
    {
     "data": {
      "image/png": "[encoded data removed]",
      "text/plain": [
       "<Figure size 432x288 with 1 Axes>"
      ]
     },
     "metadata": {
      "needs_background": "light"
     },
     "output_type": "display_data"
    }
   ],
   "source": [
    "fpr, tpr, thresholds = roc_curve(actual, prediction)\n",
    "\n",
    "plt.plot(fpr, tpr,lw=2)\n",
    "plt.plot([0,1],[0,1],c='orange',ls='--')\n",
    "plt.xlim([-0.05,1.05])\n",
    "plt.ylim([-0.05,1.05])\n",
    "\n",
    "\n",
    "plt.xlabel('False positive rate')\n",
    "plt.ylabel('True positive rate')\n",
    "plt.title('ROC Curve');"
   ]
  },
  {
   "cell_type": "code",
   "execution_count": 26,
   "id": "30b0963c",
   "metadata": {},
   "outputs": [
    {
     "data": {
      "image/png": "[encoded data removed]",
      "text/plain": [
       "<Figure size 480x320 with 1 Axes>"
      ]
     },
     "metadata": {
      "needs_background": "light"
     },
     "output_type": "display_data"
    }
   ],
   "source": [
    "precision_curve, recall_curve, threshold_curve = precision_recall_curve(actual, prediction)\n",
    "\n",
    "plt.figure(dpi=80)\n",
    "plt.plot(threshold_curve, precision_curve[1:],label='precision')\n",
    "plt.plot(threshold_curve, recall_curve[1:], label='recall')\n",
    "plt.legend(loc='lower left')\n",
    "plt.xlabel('Threshold (above this probability Poisonous)');\n",
    "plt.title('Precision and Recall Curves');"
   ]
  },
  {
   "cell_type": "code",
   "execution_count": 31,
   "id": "ce2c3636",
   "metadata": {
    "scrolled": true
   },
   "outputs": [
    {
     "data": {
      "image/png": "[encoded data removed]",
      "text/plain": [
       "<Figure size 900x600 with 1 Axes>"
      ]
     },
     "metadata": {
      "needs_background": "light"
     },
     "output_type": "display_data"
    }
   ],
   "source": [
    "confusion = confusion_matrix(actual, prediction>0.4)\n",
    "plt.figure(dpi=150)\n",
    "sns.heatmap(confusion, cmap=plt.cm.Blues, annot=True, square=True, cbar=False, fmt='d')\n",
    "\n",
    "plt.xlabel('Predicted')\n",
    "plt.ylabel('Actual')\n",
    "plt.title('Confusion Matrix');"
   ]
  },
  {
   "cell_type": "code",
   "execution_count": 35,
   "id": "9d30a821",
   "metadata": {},
   "outputs": [
    {
     "name": "stdout",
     "output_type": "stream",
     "text": [
      "CONV2D:\n",
      "Test F1: 0.423, Test AUC: 0.480\n"
     ]
    }
   ],
   "source": [
    "print('CONV2D:')\n",
    "print('Test F1: %.3f, Test AUC: %.3f' % \\\n",
    "      (f1_score(actual, prediction>0.4), roc_auc_score(actual, prediction>0.4))) "
   ]
  }
 ],
 "metadata": {
  "kernelspec": {
   "display_name": "Python [conda env:metis] *",
   "language": "python",
   "name": "conda-env-metis-py"
  },
  "language_info": {
   "codemirror_mode": {
    "name": "ipython",
    "version": 3
   },
   "file_extension": ".py",
   "mimetype": "text/x-python",
   "name": "python",
   "nbconvert_exporter": "python",
   "pygments_lexer": "ipython3",
   "version": "3.8.10"
  }
 },
 "nbformat": 4,
 "nbformat_minor": 5
}
