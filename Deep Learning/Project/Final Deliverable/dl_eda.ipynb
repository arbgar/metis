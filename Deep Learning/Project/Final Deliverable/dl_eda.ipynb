{
 "cells": [
  {
   "cell_type": "code",
   "execution_count": 1,
   "id": "acd7215c",
   "metadata": {},
   "outputs": [],
   "source": [
    "import keras\n",
    "from keras.preprocessing.image import ImageDataGenerator"
   ]
  },
  {
   "cell_type": "code",
   "execution_count": 2,
   "id": "396dc77b",
   "metadata": {},
   "outputs": [
    {
     "name": "stdout",
     "output_type": "stream",
     "text": [
      "Found 6814 images belonging to 2 classes.\n"
     ]
    }
   ],
   "source": [
    "get_image_data = ImageDataGenerator(rescale=1./255)\n",
    "\n",
    "path_name = '/Users/alisongarrett/Documents/GitHub/metis/Deep Learning/Project/data/train'\n",
    "process_name = '/Users/alisongarrett/Documents/GitHub/metis/Deep Learning/Project/data/process'\n",
    "\n",
    "image_data_train = get_image_data.flow_from_directory(path_name, \n",
    "                                                      target_size=(32,32), \n",
    "                                                      batch_size=32,\n",
    "                                                      seed=42,\n",
    "                                                      class_mode='binary',\n",
    "                                                      save_to_dir=process_name + '/train',\n",
    "                                                      save_prefix='N',\n",
    "                                                      color_mode='grayscale',\n",
    "                                                      save_format='jpeg')"
   ]
  },
  {
   "cell_type": "code",
   "execution_count": 3,
   "id": "104716ca",
   "metadata": {},
   "outputs": [],
   "source": [
    "for i in range(0,6814,32):\n",
    "    image_data_train.next()"
   ]
  },
  {
   "cell_type": "code",
   "execution_count": 4,
   "id": "7e0a13f9",
   "metadata": {
    "scrolled": true
   },
   "outputs": [
    {
     "name": "stdout",
     "output_type": "stream",
     "text": [
      "Found 884 images belonging to 2 classes.\n"
     ]
    }
   ],
   "source": [
    "path_name = '/Users/alisongarrett/Documents/GitHub/metis/Deep Learning/Project/data/test'\n",
    "\n",
    "image_data_test = get_image_data.flow_from_directory(path_name, \n",
    "                                                     target_size=(32,32),\n",
    "                                                     seed=42,\n",
    "                                                     save_to_dir=process_name + '/test',\n",
    "                                                     class_mode='binary',\n",
    "                                                     save_prefix='N',\n",
    "                                                     save_format='jpeg',\n",
    "                                                     color_mode='grayscale',\n",
    "                                                     batch_size=32)"
   ]
  },
  {
   "cell_type": "code",
   "execution_count": 5,
   "id": "3131ea17",
   "metadata": {},
   "outputs": [],
   "source": [
    "for i in range(0,844,32):\n",
    "    image_data_test.next()"
   ]
  },
  {
   "cell_type": "code",
   "execution_count": null,
   "id": "9e5e46f8",
   "metadata": {},
   "outputs": [],
   "source": []
  }
 ],
 "metadata": {
  "kernelspec": {
   "display_name": "Python [conda env:metis] *",
   "language": "python",
   "name": "conda-env-metis-py"
  },
  "language_info": {
   "codemirror_mode": {
    "name": "ipython",
    "version": 3
   },
   "file_extension": ".py",
   "mimetype": "text/x-python",
   "name": "python",
   "nbconvert_exporter": "python",
   "pygments_lexer": "ipython3",
   "version": "3.8.10"
  }
 },
 "nbformat": 4,
 "nbformat_minor": 5
}
