{
 "cells": [
  {
   "cell_type": "markdown",
   "id": "aaf2511e",
   "metadata": {},
   "source": [
    "This code takes the list of urls and individually calls\n",
    "each property listing.  From the listing it includes the details in the property list.  \n",
    "\n",
    "Note that this was run many times to get bits of data, concatenated in excel."
   ]
  },
  {
   "cell_type": "code",
   "execution_count": null,
   "id": "da34dccb",
   "metadata": {},
   "outputs": [],
   "source": [
    "from bs4 import BeautifulSoup\n",
    "import requests\n",
    "import time, os\n",
    "import pandas as pd\n",
    "from selenium import webdriver\n",
    "from selenium.webdriver.common.keys import Keys\n",
    "chromedriver = \"/Applications/chromedriver\" # path to the chromedriver executable\n",
    "os.environ[\"webdriver.chrome.driver\"] = chromedriver"
   ]
  },
  {
   "cell_type": "markdown",
   "id": "bd7e045c",
   "metadata": {},
   "source": [
    "Concatenate to make one df"
   ]
  },
  {
   "cell_type": "code",
   "execution_count": null,
   "id": "54390b4b",
   "metadata": {},
   "outputs": [],
   "source": [
    "property_df = pd.read_csv('property_df.csv')\n",
    "property_df"
   ]
  },
  {
   "cell_type": "markdown",
   "id": "55a1ab68",
   "metadata": {},
   "source": [
    "Work on one page to test approach."
   ]
  },
  {
   "cell_type": "code",
   "execution_count": null,
   "id": "571f3f7d",
   "metadata": {},
   "outputs": [],
   "source": [
    "url = 'https://www.homesnap.com/MD/Bethesda/7509-Oldchester-Road'\n",
    "driver = webdriver.Chrome(chromedriver)\n",
    "driver.get(url)\n",
    "time.sleep(2)"
   ]
  },
  {
   "cell_type": "code",
   "execution_count": null,
   "id": "37baf249",
   "metadata": {},
   "outputs": [],
   "source": [
    "page = driver.page_source"
   ]
  },
  {
   "cell_type": "code",
   "execution_count": null,
   "id": "bec14c55",
   "metadata": {},
   "outputs": [],
   "source": [
    "soup = BeautifulSoup(page, 'html.parser')"
   ]
  },
  {
   "cell_type": "code",
   "execution_count": null,
   "id": "f1b0db8d",
   "metadata": {},
   "outputs": [],
   "source": [
    "details=[element.text for element in soup.find_all('li')]\n",
    "details_s = pd.Series(data=details)"
   ]
  },
  {
   "cell_type": "code",
   "execution_count": null,
   "id": "91c6463c",
   "metadata": {},
   "outputs": [],
   "source": [
    "details_s = details_s.str.strip()\n",
    "details_df = details_s.str.split(':', expand=True)\n",
    "\n",
    "details_df[1] = details_df[1].str.strip()\n",
    "details_df = details_df.dropna()\n",
    "details_df = details_df.set_index(0).transpose()\n",
    "details_df.reset_index(drop=True, inplace=True) \n",
    "details_df = details_df.loc[:,~details_df.columns.duplicated()]\n",
    "\n",
    "all_detail_df = details_df\n",
    "all_detail_df['URL']='/MD/Bethesda/7509-Oldchester-Road'\n",
    "all_detail_df"
   ]
  },
  {
   "cell_type": "markdown",
   "id": "4f9f4b86",
   "metadata": {},
   "source": [
    "Repeat appraoch to bring in all data."
   ]
  },
  {
   "cell_type": "code",
   "execution_count": null,
   "id": "dad8498c",
   "metadata": {},
   "outputs": [],
   "source": [
    "for u in property_df['URL']:\n",
    "    try:\n",
    "        url = 'https://www.homesnap.com' + u\n",
    "        driver.get(url)\n",
    "        time.sleep(2)\n",
    "\n",
    "        page = driver.page_source\n",
    "\n",
    "\n",
    "        soup = BeautifulSoup(page, 'html.parser')\n",
    "\n",
    "        details=[element.text for element in soup.find_all('li')]\n",
    "        details_s = pd.Series(data=details)\n",
    "        details_s = details_s.str.strip()\n",
    "        details_df = details_s.str.split(':', expand=True)\n",
    "\n",
    "        details_df[1] = details_df[1].str.strip()\n",
    "        details_df = details_df.dropna()\n",
    "        details_df = details_df.set_index(0).transpose()\n",
    "        details_df.reset_index(drop=True, inplace=True) \n",
    "        details_df = details_df.loc[:,~details_df.columns.duplicated()]\n",
    "        details_df['URL'] = u\n",
    "        \n",
    "        all_detail_df = all_detail_df.append(details_df)\n",
    "        all_detail_df.reset_index(drop = True, inplace = True)\n",
    "\n",
    "        all_detail_df.to_csv('details_best.csv')\n",
    "    except:\n",
    "          print('An exception occurred: ' + u)"
   ]
  },
  {
   "cell_type": "code",
   "execution_count": null,
   "id": "cf9d4dbb",
   "metadata": {},
   "outputs": [],
   "source": [
    "all_detail_df\n"
   ]
  }
 ],
 "metadata": {
  "kernelspec": {
   "display_name": "Python [conda env:metis] *",
   "language": "python",
   "name": "conda-env-metis-py"
  },
  "language_info": {
   "codemirror_mode": {
    "name": "ipython",
    "version": 3
   },
   "file_extension": ".py",
   "mimetype": "text/x-python",
   "name": "python",
   "nbconvert_exporter": "python",
   "pygments_lexer": "ipython3",
   "version": "3.8.10"
  }
 },
 "nbformat": 4,
 "nbformat_minor": 5
}
