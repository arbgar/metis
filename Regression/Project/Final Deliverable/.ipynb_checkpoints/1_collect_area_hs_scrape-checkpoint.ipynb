{
 "cells": [
  {
   "cell_type": "markdown",
   "id": "b55276bb",
   "metadata": {},
   "source": [
    "Scrape the Washington DC area from the HomeSnap website.  \n",
    "Concatenate results in a file to csv."
   ]
  },
  {
   "cell_type": "code",
   "execution_count": null,
   "id": "da34dccb",
   "metadata": {},
   "outputs": [],
   "source": [
    "from bs4 import BeautifulSoup\n",
    "import requests\n",
    "import time, os\n",
    "import pandas as pd"
   ]
  },
  {
   "cell_type": "code",
   "execution_count": null,
   "id": "571f3f7d",
   "metadata": {},
   "outputs": [],
   "source": [
    "url = 'https://www.homesnap.com/homes/DC/Washington/Cleveland-Park/t_3/ctp_1/st_7/c_38.937782,-77.060263/z_14' \n",
    "\n",
    "response = requests.get(url)"
   ]
  },
  {
   "cell_type": "code",
   "execution_count": null,
   "id": "37baf249",
   "metadata": {},
   "outputs": [],
   "source": [
    "response"
   ]
  },
  {
   "cell_type": "code",
   "execution_count": null,
   "id": "bec14c55",
   "metadata": {},
   "outputs": [],
   "source": [
    "page = response.text\n",
    "\n",
    "soup = BeautifulSoup(page, \"html5lib\")\n",
    "\n",
    "print(soup.prettify())"
   ]
  },
  {
   "cell_type": "code",
   "execution_count": null,
   "id": "c08b193d",
   "metadata": {},
   "outputs": [],
   "source": [
    "from selenium import webdriver\n",
    "from selenium.webdriver.common.keys import Keys\n",
    "chromedriver = \"/Applications/chromedriver\" # path to the chromedriver executable\n",
    "os.environ[\"webdriver.chrome.driver\"] = chromedriver"
   ]
  },
  {
   "cell_type": "code",
   "execution_count": null,
   "id": "5edf5427",
   "metadata": {},
   "outputs": [],
   "source": [
    "driver = webdriver.Chrome(chromedriver)"
   ]
  },
  {
   "cell_type": "code",
   "execution_count": null,
   "id": "0d9c1e30",
   "metadata": {},
   "outputs": [],
   "source": [
    "driver.get(url)"
   ]
  },
  {
   "cell_type": "markdown",
   "id": "1a508b74",
   "metadata": {},
   "source": [
    "Re-run the following 3 commands to get all the For Sale/Contingent, Under Contract, and Sold listings over the past 6 months for Houses and Towhhouses."
   ]
  },
  {
   "cell_type": "code",
   "execution_count": null,
   "id": "6652e932",
   "metadata": {},
   "outputs": [],
   "source": [
    "page = driver.page_source"
   ]
  },
  {
   "cell_type": "code",
   "execution_count": null,
   "id": "87d51c52",
   "metadata": {},
   "outputs": [],
   "source": [
    "soup = BeautifulSoup(page, 'html.parser')\n"
   ]
  },
  {
   "cell_type": "code",
   "execution_count": null,
   "id": "41cc4bce",
   "metadata": {},
   "outputs": [],
   "source": [
    "href=[]\n",
    "for div in soup.find_all('div', class_='search-list-pa-item-outer'):\n",
    "    for link in div.find_all('a'):\n",
    "         href.append(link.get(\"href\"))\n",
    "href_df = pd.DataFrame(href)\n",
    "href_df.to_csv('href_df_s_house.csv')"
   ]
  },
  {
   "cell_type": "markdown",
   "id": "bd7e045c",
   "metadata": {},
   "source": [
    "Concatenate to make one df"
   ]
  },
  {
   "cell_type": "code",
   "execution_count": null,
   "id": "54390b4b",
   "metadata": {},
   "outputs": [],
   "source": [
    "s_house_df = pd.read_csv('href_df_s_house.csv')\n",
    "uc_house_df = pd.read_csv('href_df_uc_house.csv')\n",
    "fs_house_df = pd.read_csv('href_df_fs_house.csv')\n",
    "s_th_df = pd.read_csv('href_df_s_th.csv')\n",
    "uc_th_df = pd.read_csv('href_df_uc_th.csv')\n",
    "fs_th_df = pd.read_csv('href_df_fs_th.csv')\n",
    "property_df = pd.concat([s_house_df, uc_house_df, fs_house_df, s_th_df, uc_th_df, fs_th_df])"
   ]
  },
  {
   "cell_type": "code",
   "execution_count": null,
   "id": "41252587",
   "metadata": {},
   "outputs": [],
   "source": [
    "property_df.columns\n"
   ]
  },
  {
   "cell_type": "code",
   "execution_count": null,
   "id": "33e5990a",
   "metadata": {},
   "outputs": [],
   "source": [
    "property_df.rename(columns={'Unnamed: 0': 'Drop', '0': 'URL'},inplace=True)\n",
    "property_df.drop(['Drop'], axis=1)"
   ]
  },
  {
   "cell_type": "code",
   "execution_count": null,
   "id": "b404ff61",
   "metadata": {},
   "outputs": [],
   "source": [
    "property_df.to_csv('property_df.cs')"
   ]
  }
 ],
 "metadata": {
  "kernelspec": {
   "display_name": "Python [conda env:metis] *",
   "language": "python",
   "name": "conda-env-metis-py"
  },
  "language_info": {
   "codemirror_mode": {
    "name": "ipython",
    "version": 3
   },
   "file_extension": ".py",
   "mimetype": "text/x-python",
   "name": "python",
   "nbconvert_exporter": "python",
   "pygments_lexer": "ipython3",
   "version": "3.8.10"
  }
 },
 "nbformat": 4,
 "nbformat_minor": 5
}
