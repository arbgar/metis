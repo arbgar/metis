{
 "cells": [
  {
   "cell_type": "markdown",
   "id": "c289d094",
   "metadata": {},
   "source": [
    "This section of code is the modeling.  Run many times with different features and varying the random_state of the train/test/select eventually yielded a somewhat stable model.  Next steps are to collect more training data (500 observations are probably not enough) and perform more category feature engineering on zip_code and / or legal_subdivision as the location seems to have a more variation than a linear latitude / longitude can predict."
   ]
  },
  {
   "cell_type": "code",
   "execution_count": 1,
   "id": "da34dccb",
   "metadata": {},
   "outputs": [],
   "source": [
    "from bs4 import BeautifulSoup\n",
    "import requests\n",
    "import time, os\n",
    "import seaborn as sns\n",
    "import pandas as pd\n",
    "import numpy as np\n",
    "from selenium import webdriver\n",
    "from selenium.webdriver.common.keys import Keys\n",
    "import matplotlib.pyplot as plt\n",
    "from sklearn.pipeline import Pipeline\n",
    "from sklearn.preprocessing import StandardScaler\n",
    "from sklearn.model_selection import train_test_split\n",
    "from sklearn.preprocessing import PolynomialFeatures\n",
    "from sklearn.linear_model import LinearRegression, Lasso, LassoCV, Ridge, RidgeCV\n",
    "from sklearn.metrics import r2_score\n",
    "from sklearn.linear_model import lars_path\n",
    "chromedriver = \"/Applications/chromedriver\" # path to the chromedriver executable\n",
    "os.environ[\"webdriver.chrome.driver\"] = chromedriver"
   ]
  },
  {
   "cell_type": "markdown",
   "id": "bd7e045c",
   "metadata": {},
   "source": [
    "Read in dataset and create dummies for categories."
   ]
  },
  {
   "cell_type": "code",
   "execution_count": 2,
   "id": "54390b4b",
   "metadata": {},
   "outputs": [
    {
     "ename": "FileNotFoundError",
     "evalue": "[Errno 2] No such file or directory: 'best_final(5).csv'",
     "output_type": "error",
     "traceback": [
      "\u001b[0;31m---------------------------------------------------------------------------\u001b[0m",
      "\u001b[0;31mFileNotFoundError\u001b[0m                         Traceback (most recent call last)",
      "\u001b[0;32m/var/folders/_m/dftsz8r12_g4207dhmcv4ynm0000gn/T/ipykernel_7164/1074259542.py\u001b[0m in \u001b[0;36m<module>\u001b[0;34m\u001b[0m\n\u001b[0;32m----> 1\u001b[0;31m \u001b[0mproperty_df\u001b[0m \u001b[0;34m=\u001b[0m \u001b[0mpd\u001b[0m\u001b[0;34m.\u001b[0m\u001b[0mread_csv\u001b[0m\u001b[0;34m(\u001b[0m\u001b[0;34m'best_final(5).csv'\u001b[0m\u001b[0;34m)\u001b[0m\u001b[0;34m\u001b[0m\u001b[0;34m\u001b[0m\u001b[0m\n\u001b[0m",
      "\u001b[0;32m/Applications/anaconda3/envs/metis/lib/python3.8/site-packages/pandas/util/_decorators.py\u001b[0m in \u001b[0;36mwrapper\u001b[0;34m(*args, **kwargs)\u001b[0m\n\u001b[1;32m    309\u001b[0m                     \u001b[0mstacklevel\u001b[0m\u001b[0;34m=\u001b[0m\u001b[0mstacklevel\u001b[0m\u001b[0;34m,\u001b[0m\u001b[0;34m\u001b[0m\u001b[0;34m\u001b[0m\u001b[0m\n\u001b[1;32m    310\u001b[0m                 )\n\u001b[0;32m--> 311\u001b[0;31m             \u001b[0;32mreturn\u001b[0m \u001b[0mfunc\u001b[0m\u001b[0;34m(\u001b[0m\u001b[0;34m*\u001b[0m\u001b[0margs\u001b[0m\u001b[0;34m,\u001b[0m \u001b[0;34m**\u001b[0m\u001b[0mkwargs\u001b[0m\u001b[0;34m)\u001b[0m\u001b[0;34m\u001b[0m\u001b[0;34m\u001b[0m\u001b[0m\n\u001b[0m\u001b[1;32m    312\u001b[0m \u001b[0;34m\u001b[0m\u001b[0m\n\u001b[1;32m    313\u001b[0m         \u001b[0;32mreturn\u001b[0m \u001b[0mwrapper\u001b[0m\u001b[0;34m\u001b[0m\u001b[0;34m\u001b[0m\u001b[0m\n",
      "\u001b[0;32m/Applications/anaconda3/envs/metis/lib/python3.8/site-packages/pandas/io/parsers/readers.py\u001b[0m in \u001b[0;36mread_csv\u001b[0;34m(filepath_or_buffer, sep, delimiter, header, names, index_col, usecols, squeeze, prefix, mangle_dupe_cols, dtype, engine, converters, true_values, false_values, skipinitialspace, skiprows, skipfooter, nrows, na_values, keep_default_na, na_filter, verbose, skip_blank_lines, parse_dates, infer_datetime_format, keep_date_col, date_parser, dayfirst, cache_dates, iterator, chunksize, compression, thousands, decimal, lineterminator, quotechar, quoting, doublequote, escapechar, comment, encoding, encoding_errors, dialect, error_bad_lines, warn_bad_lines, on_bad_lines, delim_whitespace, low_memory, memory_map, float_precision, storage_options)\u001b[0m\n\u001b[1;32m    584\u001b[0m     \u001b[0mkwds\u001b[0m\u001b[0;34m.\u001b[0m\u001b[0mupdate\u001b[0m\u001b[0;34m(\u001b[0m\u001b[0mkwds_defaults\u001b[0m\u001b[0;34m)\u001b[0m\u001b[0;34m\u001b[0m\u001b[0;34m\u001b[0m\u001b[0m\n\u001b[1;32m    585\u001b[0m \u001b[0;34m\u001b[0m\u001b[0m\n\u001b[0;32m--> 586\u001b[0;31m     \u001b[0;32mreturn\u001b[0m \u001b[0m_read\u001b[0m\u001b[0;34m(\u001b[0m\u001b[0mfilepath_or_buffer\u001b[0m\u001b[0;34m,\u001b[0m \u001b[0mkwds\u001b[0m\u001b[0;34m)\u001b[0m\u001b[0;34m\u001b[0m\u001b[0;34m\u001b[0m\u001b[0m\n\u001b[0m\u001b[1;32m    587\u001b[0m \u001b[0;34m\u001b[0m\u001b[0m\n\u001b[1;32m    588\u001b[0m \u001b[0;34m\u001b[0m\u001b[0m\n",
      "\u001b[0;32m/Applications/anaconda3/envs/metis/lib/python3.8/site-packages/pandas/io/parsers/readers.py\u001b[0m in \u001b[0;36m_read\u001b[0;34m(filepath_or_buffer, kwds)\u001b[0m\n\u001b[1;32m    480\u001b[0m \u001b[0;34m\u001b[0m\u001b[0m\n\u001b[1;32m    481\u001b[0m     \u001b[0;31m# Create the parser.\u001b[0m\u001b[0;34m\u001b[0m\u001b[0;34m\u001b[0m\u001b[0;34m\u001b[0m\u001b[0m\n\u001b[0;32m--> 482\u001b[0;31m     \u001b[0mparser\u001b[0m \u001b[0;34m=\u001b[0m \u001b[0mTextFileReader\u001b[0m\u001b[0;34m(\u001b[0m\u001b[0mfilepath_or_buffer\u001b[0m\u001b[0;34m,\u001b[0m \u001b[0;34m**\u001b[0m\u001b[0mkwds\u001b[0m\u001b[0;34m)\u001b[0m\u001b[0;34m\u001b[0m\u001b[0;34m\u001b[0m\u001b[0m\n\u001b[0m\u001b[1;32m    483\u001b[0m \u001b[0;34m\u001b[0m\u001b[0m\n\u001b[1;32m    484\u001b[0m     \u001b[0;32mif\u001b[0m \u001b[0mchunksize\u001b[0m \u001b[0;32mor\u001b[0m \u001b[0miterator\u001b[0m\u001b[0;34m:\u001b[0m\u001b[0;34m\u001b[0m\u001b[0;34m\u001b[0m\u001b[0m\n",
      "\u001b[0;32m/Applications/anaconda3/envs/metis/lib/python3.8/site-packages/pandas/io/parsers/readers.py\u001b[0m in \u001b[0;36m__init__\u001b[0;34m(self, f, engine, **kwds)\u001b[0m\n\u001b[1;32m    809\u001b[0m             \u001b[0mself\u001b[0m\u001b[0;34m.\u001b[0m\u001b[0moptions\u001b[0m\u001b[0;34m[\u001b[0m\u001b[0;34m\"has_index_names\"\u001b[0m\u001b[0;34m]\u001b[0m \u001b[0;34m=\u001b[0m \u001b[0mkwds\u001b[0m\u001b[0;34m[\u001b[0m\u001b[0;34m\"has_index_names\"\u001b[0m\u001b[0;34m]\u001b[0m\u001b[0;34m\u001b[0m\u001b[0;34m\u001b[0m\u001b[0m\n\u001b[1;32m    810\u001b[0m \u001b[0;34m\u001b[0m\u001b[0m\n\u001b[0;32m--> 811\u001b[0;31m         \u001b[0mself\u001b[0m\u001b[0;34m.\u001b[0m\u001b[0m_engine\u001b[0m \u001b[0;34m=\u001b[0m \u001b[0mself\u001b[0m\u001b[0;34m.\u001b[0m\u001b[0m_make_engine\u001b[0m\u001b[0;34m(\u001b[0m\u001b[0mself\u001b[0m\u001b[0;34m.\u001b[0m\u001b[0mengine\u001b[0m\u001b[0;34m)\u001b[0m\u001b[0;34m\u001b[0m\u001b[0;34m\u001b[0m\u001b[0m\n\u001b[0m\u001b[1;32m    812\u001b[0m \u001b[0;34m\u001b[0m\u001b[0m\n\u001b[1;32m    813\u001b[0m     \u001b[0;32mdef\u001b[0m \u001b[0mclose\u001b[0m\u001b[0;34m(\u001b[0m\u001b[0mself\u001b[0m\u001b[0;34m)\u001b[0m\u001b[0;34m:\u001b[0m\u001b[0;34m\u001b[0m\u001b[0;34m\u001b[0m\u001b[0m\n",
      "\u001b[0;32m/Applications/anaconda3/envs/metis/lib/python3.8/site-packages/pandas/io/parsers/readers.py\u001b[0m in \u001b[0;36m_make_engine\u001b[0;34m(self, engine)\u001b[0m\n\u001b[1;32m   1038\u001b[0m             )\n\u001b[1;32m   1039\u001b[0m         \u001b[0;31m# error: Too many arguments for \"ParserBase\"\u001b[0m\u001b[0;34m\u001b[0m\u001b[0;34m\u001b[0m\u001b[0;34m\u001b[0m\u001b[0m\n\u001b[0;32m-> 1040\u001b[0;31m         \u001b[0;32mreturn\u001b[0m \u001b[0mmapping\u001b[0m\u001b[0;34m[\u001b[0m\u001b[0mengine\u001b[0m\u001b[0;34m]\u001b[0m\u001b[0;34m(\u001b[0m\u001b[0mself\u001b[0m\u001b[0;34m.\u001b[0m\u001b[0mf\u001b[0m\u001b[0;34m,\u001b[0m \u001b[0;34m**\u001b[0m\u001b[0mself\u001b[0m\u001b[0;34m.\u001b[0m\u001b[0moptions\u001b[0m\u001b[0;34m)\u001b[0m  \u001b[0;31m# type: ignore[call-arg]\u001b[0m\u001b[0;34m\u001b[0m\u001b[0;34m\u001b[0m\u001b[0m\n\u001b[0m\u001b[1;32m   1041\u001b[0m \u001b[0;34m\u001b[0m\u001b[0m\n\u001b[1;32m   1042\u001b[0m     \u001b[0;32mdef\u001b[0m \u001b[0m_failover_to_python\u001b[0m\u001b[0;34m(\u001b[0m\u001b[0mself\u001b[0m\u001b[0;34m)\u001b[0m\u001b[0;34m:\u001b[0m\u001b[0;34m\u001b[0m\u001b[0;34m\u001b[0m\u001b[0m\n",
      "\u001b[0;32m/Applications/anaconda3/envs/metis/lib/python3.8/site-packages/pandas/io/parsers/c_parser_wrapper.py\u001b[0m in \u001b[0;36m__init__\u001b[0;34m(self, src, **kwds)\u001b[0m\n\u001b[1;32m     49\u001b[0m \u001b[0;34m\u001b[0m\u001b[0m\n\u001b[1;32m     50\u001b[0m         \u001b[0;31m# open handles\u001b[0m\u001b[0;34m\u001b[0m\u001b[0;34m\u001b[0m\u001b[0;34m\u001b[0m\u001b[0m\n\u001b[0;32m---> 51\u001b[0;31m         \u001b[0mself\u001b[0m\u001b[0;34m.\u001b[0m\u001b[0m_open_handles\u001b[0m\u001b[0;34m(\u001b[0m\u001b[0msrc\u001b[0m\u001b[0;34m,\u001b[0m \u001b[0mkwds\u001b[0m\u001b[0;34m)\u001b[0m\u001b[0;34m\u001b[0m\u001b[0;34m\u001b[0m\u001b[0m\n\u001b[0m\u001b[1;32m     52\u001b[0m         \u001b[0;32massert\u001b[0m \u001b[0mself\u001b[0m\u001b[0;34m.\u001b[0m\u001b[0mhandles\u001b[0m \u001b[0;32mis\u001b[0m \u001b[0;32mnot\u001b[0m \u001b[0;32mNone\u001b[0m\u001b[0;34m\u001b[0m\u001b[0;34m\u001b[0m\u001b[0m\n\u001b[1;32m     53\u001b[0m \u001b[0;34m\u001b[0m\u001b[0m\n",
      "\u001b[0;32m/Applications/anaconda3/envs/metis/lib/python3.8/site-packages/pandas/io/parsers/base_parser.py\u001b[0m in \u001b[0;36m_open_handles\u001b[0;34m(self, src, kwds)\u001b[0m\n\u001b[1;32m    220\u001b[0m         \u001b[0mLet\u001b[0m \u001b[0mthe\u001b[0m \u001b[0mreaders\u001b[0m \u001b[0mopen\u001b[0m \u001b[0mIOHandles\u001b[0m \u001b[0mafter\u001b[0m \u001b[0mthey\u001b[0m \u001b[0mare\u001b[0m \u001b[0mdone\u001b[0m \u001b[0;32mwith\u001b[0m \u001b[0mtheir\u001b[0m \u001b[0mpotential\u001b[0m \u001b[0mraises\u001b[0m\u001b[0;34m.\u001b[0m\u001b[0;34m\u001b[0m\u001b[0;34m\u001b[0m\u001b[0m\n\u001b[1;32m    221\u001b[0m         \"\"\"\n\u001b[0;32m--> 222\u001b[0;31m         self.handles = get_handle(\n\u001b[0m\u001b[1;32m    223\u001b[0m             \u001b[0msrc\u001b[0m\u001b[0;34m,\u001b[0m\u001b[0;34m\u001b[0m\u001b[0;34m\u001b[0m\u001b[0m\n\u001b[1;32m    224\u001b[0m             \u001b[0;34m\"r\"\u001b[0m\u001b[0;34m,\u001b[0m\u001b[0;34m\u001b[0m\u001b[0;34m\u001b[0m\u001b[0m\n",
      "\u001b[0;32m/Applications/anaconda3/envs/metis/lib/python3.8/site-packages/pandas/io/common.py\u001b[0m in \u001b[0;36mget_handle\u001b[0;34m(path_or_buf, mode, encoding, compression, memory_map, is_text, errors, storage_options)\u001b[0m\n\u001b[1;32m    699\u001b[0m         \u001b[0;32mif\u001b[0m \u001b[0mioargs\u001b[0m\u001b[0;34m.\u001b[0m\u001b[0mencoding\u001b[0m \u001b[0;32mand\u001b[0m \u001b[0;34m\"b\"\u001b[0m \u001b[0;32mnot\u001b[0m \u001b[0;32min\u001b[0m \u001b[0mioargs\u001b[0m\u001b[0;34m.\u001b[0m\u001b[0mmode\u001b[0m\u001b[0;34m:\u001b[0m\u001b[0;34m\u001b[0m\u001b[0;34m\u001b[0m\u001b[0m\n\u001b[1;32m    700\u001b[0m             \u001b[0;31m# Encoding\u001b[0m\u001b[0;34m\u001b[0m\u001b[0;34m\u001b[0m\u001b[0;34m\u001b[0m\u001b[0m\n\u001b[0;32m--> 701\u001b[0;31m             handle = open(\n\u001b[0m\u001b[1;32m    702\u001b[0m                 \u001b[0mhandle\u001b[0m\u001b[0;34m,\u001b[0m\u001b[0;34m\u001b[0m\u001b[0;34m\u001b[0m\u001b[0m\n\u001b[1;32m    703\u001b[0m                 \u001b[0mioargs\u001b[0m\u001b[0;34m.\u001b[0m\u001b[0mmode\u001b[0m\u001b[0;34m,\u001b[0m\u001b[0;34m\u001b[0m\u001b[0;34m\u001b[0m\u001b[0m\n",
      "\u001b[0;31mFileNotFoundError\u001b[0m: [Errno 2] No such file or directory: 'best_final(5).csv'"
     ]
    }
   ],
   "source": [
    "property_df = pd.read_csv('best_final(5).csv')"
   ]
  },
  {
   "cell_type": "code",
   "execution_count": null,
   "id": "dba86e04",
   "metadata": {},
   "outputs": [],
   "source": [
    "property_df['Price'] = property_df['Price'].apply(lambda col:pd.to_numeric(col, errors='coerce'))"
   ]
  },
  {
   "cell_type": "code",
   "execution_count": null,
   "id": "b0b9f9a7",
   "metadata": {},
   "outputs": [],
   "source": [
    "structure_df = pd.get_dummies(property_df['Structure Type'], drop_first=True)\n",
    "zip_df = pd.get_dummies(property_df['Zip Code'], drop_first=True)"
   ]
  },
  {
   "cell_type": "code",
   "execution_count": null,
   "id": "04678efc",
   "metadata": {},
   "outputs": [],
   "source": [
    "property_df = property_df.join(structure_df)\n",
    "property_df = property_df.join(zip_df)"
   ]
  },
  {
   "cell_type": "markdown",
   "id": "7e57e6b2",
   "metadata": {},
   "source": [
    "Linear Regression, later augmented by polynomials including interaction terms."
   ]
  },
  {
   "cell_type": "code",
   "execution_count": null,
   "id": "bf7d94ee",
   "metadata": {},
   "outputs": [],
   "source": [
    "property_df_n = property_df[['Zip Code','Interior Row/Townhouse','Single','Twin/Semi-Detached','Longitude', 'Latitude', 'Year Built', 'Fireplaces Count', 'Levels Count', 'Total SqFt',  'Garage Spaces', 'Tax Total Finished SqFt',  'Bedrooms', 'Bathrooms Total', 'Lot SqFt', 'Price', 'Status']]"
   ]
  },
  {
   "cell_type": "code",
   "execution_count": null,
   "id": "74668344",
   "metadata": {},
   "outputs": [],
   "source": [
    "# Let's jump right in and try a model using all variables above 0.6 correlation\n",
    "\n",
    "property_df_ntr = property_df_n.loc[property_df_n['Status'].str.contains('Sold|OFF MARKET', case=False)]\n",
    "\n",
    "\n",
    "X = property_df_ntr[['Zip Code','Longitude', 'Levels Count', 'Total SqFt','Bathrooms Total', 'Interior Row/Townhouse','Single','Twin/Semi-Detached']]\n",
    "y = property_df_ntr['Price']\n",
    "\n",
    "poly = PolynomialFeatures(2)\n",
    "Xp = poly.fit_transform(X)\n",
    "\n",
    "names = poly.get_feature_names(X.columns)\n",
    "X2 = pd.DataFrame(Xp, columns = names)\n",
    "X2.info()"
   ]
  },
  {
   "cell_type": "code",
   "execution_count": null,
   "id": "a901a038",
   "metadata": {},
   "outputs": [],
   "source": [
    "X = X2[['Total SqFt Twin/Semi-Detached','Total SqFt Bathrooms Total','Levels Count Total SqFt','Longitude^2','Bathrooms Total','Total SqFt','Total SqFt Interior Row/Townhouse','Zip Code','Levels Count Twin/Semi-Detached']]\n",
    "\n",
    "X_tr, X_te, y_tr, y_te = train_test_split(X, y, test_size=0.20, random_state=70)\n",
    "X_tr, X_v, y_tr, y_v = train_test_split(X_tr, y_tr, test_size=0.25, random_state=70)"
   ]
  },
  {
   "cell_type": "code",
   "execution_count": null,
   "id": "673ec0db",
   "metadata": {},
   "outputs": [],
   "source": [
    "# Instantiate your model\n",
    "lr = LinearRegression()\n",
    "\n",
    "# Fit\n",
    "lr.fit(X_tr,y_tr)"
   ]
  },
  {
   "cell_type": "code",
   "execution_count": null,
   "id": "d25ea3bf",
   "metadata": {
    "scrolled": false
   },
   "outputs": [],
   "source": [
    "# Print out the coefficients and intercept\n",
    "print(lr.coef_)\n",
    "print(lr.intercept_)"
   ]
  },
  {
   "cell_type": "markdown",
   "id": "ad9cc86c",
   "metadata": {},
   "source": [
    "Calculate errors and plot results"
   ]
  },
  {
   "cell_type": "code",
   "execution_count": null,
   "id": "d57934e6",
   "metadata": {},
   "outputs": [],
   "source": [
    "plt.figure(figsize=[8,5])\n",
    "plt.title('Target Sales Price Model')\n",
    "ticks_x = np.linspace(0, 2, 3)\n",
    "plt.xticks(ticks_x, labels=('Longitude^2','Baths','Levels-SemiDetached'), rotation='vertical', fontsize='10');\n",
    "plt.legend\n",
    "plt.bar(height=[25084.4148, 144299.714, 87433.3611],x=['Longitude^2','Baths','Levels-SemiDetached']); \n",
    "# # plt.savefig('JAMAICA 179 ST', bbox_inches=\"tight\") "
   ]
  },
  {
   "cell_type": "code",
   "execution_count": null,
   "id": "b80543e2",
   "metadata": {},
   "outputs": [],
   "source": [
    "# Now score your model with R^2\n",
    "print(lr.score(X_tr, y_tr))"
   ]
  },
  {
   "cell_type": "code",
   "execution_count": null,
   "id": "d568f4ab",
   "metadata": {},
   "outputs": [],
   "source": [
    "# Now score your model with R^2\n",
    "print(lr.score(X_v, y_v))"
   ]
  },
  {
   "cell_type": "code",
   "execution_count": null,
   "id": "d85e0f7c",
   "metadata": {},
   "outputs": [],
   "source": [
    "## This step fits the Standard Scaler to the training data\n",
    "## Essentially it finds the mean and standard deviation of each variable in the training set\n",
    "\n",
    "std = StandardScaler()\n",
    "std.fit(X_tr)"
   ]
  },
  {
   "cell_type": "code",
   "execution_count": null,
   "id": "87d06d07",
   "metadata": {},
   "outputs": [],
   "source": [
    "## This step applies the scaler to the train set.\n",
    "## It subtracts the mean it learned in the previous step and then divides by the standard deviation\n",
    "\n",
    "X_trs = std.transform(X_tr)"
   ]
  },
  {
   "cell_type": "code",
   "execution_count": null,
   "id": "4c439d8a",
   "metadata": {},
   "outputs": [],
   "source": [
    "lasso_model = Lasso(alpha = 10000)\n",
    "lasso_model.fit(X_trs,y_tr)"
   ]
  },
  {
   "cell_type": "code",
   "execution_count": null,
   "id": "e36f0ea7",
   "metadata": {
    "scrolled": false
   },
   "outputs": [],
   "source": [
    "# These are the (standardized) coefficients found\n",
    "# when it refit using that best alpha\n",
    "\n",
    "list(zip(X_tr, lasso_model.coef_))"
   ]
  },
  {
   "cell_type": "code",
   "execution_count": null,
   "id": "c3305e00",
   "metadata": {},
   "outputs": [],
   "source": [
    "preds_v = lr.predict(X_v) # generate predictions (on training data) using fit model\n",
    "preds_tr = lr.predict(X_tr) \n",
    "preds_te = lr.predict(X_te)\n",
    "sns.jointplot(x=preds_v,y=y_v, kind='reg')"
   ]
  },
  {
   "cell_type": "code",
   "execution_count": null,
   "id": "83f29607",
   "metadata": {},
   "outputs": [],
   "source": [
    "sns.jointplot(x=preds_tr,y=y_tr, kind='reg')"
   ]
  },
  {
   "cell_type": "code",
   "execution_count": null,
   "id": "f3f5a092",
   "metadata": {},
   "outputs": [],
   "source": [
    "print(np.mean(np.abs(y_tr-preds_tr)))"
   ]
  },
  {
   "cell_type": "code",
   "execution_count": null,
   "id": "2cc2e864",
   "metadata": {},
   "outputs": [],
   "source": [
    "print(np.mean(np.abs(y_v-preds_v)))"
   ]
  },
  {
   "cell_type": "code",
   "execution_count": null,
   "id": "c3ed7487",
   "metadata": {},
   "outputs": [],
   "source": [
    "print(np.mean(np.abs(y_te-preds_te)))"
   ]
  },
  {
   "cell_type": "code",
   "execution_count": null,
   "id": "5e44042c",
   "metadata": {},
   "outputs": [],
   "source": [
    "sns.jointplot(x=preds_te,y=y_te, kind='reg')"
   ]
  },
  {
   "cell_type": "code",
   "execution_count": null,
   "id": "66aa0121",
   "metadata": {},
   "outputs": [],
   "source": [
    "print(lr.score(X_tr, y_tr))\n",
    "print(lr.score(X_v, y_v))\n",
    "print(lr.score(X_te, y_te))"
   ]
  },
  {
   "cell_type": "markdown",
   "id": "a493cbed",
   "metadata": {},
   "source": [
    "Run the prediction dataset through the Sales Price Model to get the Target Price."
   ]
  },
  {
   "cell_type": "code",
   "execution_count": null,
   "id": "e433cc65",
   "metadata": {},
   "outputs": [],
   "source": [
    "property_df_predict = property_df.loc[property_df_n['Status'].str.contains('Contingent|Contract|For Sale', case=False)]\n",
    "Xpr = property_df_predict[['Zip Code','Longitude', 'Levels Count', 'Total SqFt','Bathrooms Total', 'Interior Row/Townhouse','Single','Twin/Semi-Detached']]\n",
    "y_price = property_df_predict['Price']\n",
    "\n",
    "poly = PolynomialFeatures(2)\n",
    "Xprp = poly.fit_transform(Xpr)\n",
    "\n",
    "names = poly.get_feature_names(Xpr.columns)\n",
    "X2pr = pd.DataFrame(Xprp, columns = names)\n",
    "X_predict = X2pr[['Total SqFt Twin/Semi-Detached','Total SqFt Bathrooms Total','Levels Count Total SqFt','Longitude^2','Bathrooms Total','Total SqFt','Total SqFt Interior Row/Townhouse','Zip Code','Levels Count Twin/Semi-Detached']]"
   ]
  },
  {
   "cell_type": "code",
   "execution_count": null,
   "id": "8d5dce20",
   "metadata": {},
   "outputs": [],
   "source": [
    "y_predict = lr.predict(X_predict)"
   ]
  },
  {
   "cell_type": "code",
   "execution_count": null,
   "id": "56e4778d",
   "metadata": {},
   "outputs": [],
   "source": [
    "sns.jointplot(x=y_predict,y=y_price, kind='reg')"
   ]
  },
  {
   "cell_type": "code",
   "execution_count": null,
   "id": "5cd1cd4b",
   "metadata": {},
   "outputs": [],
   "source": [
    "property_df_predict_price = property_df_predict\n",
    "property_df_predict_price['Target Price'] = y_predict\n",
    "property_df_predict_price.to_csv('predictions.csv')"
   ]
  }
 ],
 "metadata": {
  "kernelspec": {
   "display_name": "Python [conda env:metis] *",
   "language": "python",
   "name": "conda-env-metis-py"
  },
  "language_info": {
   "codemirror_mode": {
    "name": "ipython",
    "version": 3
   },
   "file_extension": ".py",
   "mimetype": "text/x-python",
   "name": "python",
   "nbconvert_exporter": "python",
   "pygments_lexer": "ipython3",
   "version": "3.8.10"
  }
 },
 "nbformat": 4,
 "nbformat_minor": 5
}
